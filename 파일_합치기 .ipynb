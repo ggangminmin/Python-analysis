{
  "nbformat": 4,
  "nbformat_minor": 0,
  "metadata": {
    "colab": {
      "provenance": []
    },
    "kernelspec": {
      "name": "python3",
      "display_name": "Python 3"
    },
    "language_info": {
      "name": "python"
    }
  },
  "cells": [
    {
      "cell_type": "code",
      "execution_count": 1,
      "metadata": {
        "colab": {
          "base_uri": "https://localhost:8080/"
        },
        "id": "RrxPjddJoj_X",
        "outputId": "2a4da7f6-082b-4ebd-a0bf-3c71b2369141"
      },
      "outputs": [
        {
          "output_type": "stream",
          "name": "stdout",
          "text": [
            "✅ 날짜 포함 병합 완료! 저장 파일: /content/merged_25년1월_utf8sig.csv\n"
          ]
        }
      ],
      "source": [
        "import pandas as pd\n",
        "import os\n",
        "import re\n",
        "\n",
        "# ▶️ 기존 데이터 (1~8일) 불러오기\n",
        "df_base = pd.read_csv('1월1일.csv', encoding='utf-8-sig') # 파일명\n",
        "df_base.columns = df_base.columns.str.strip()\n",
        "df_base['날짜'] = pd.to_datetime(df_base['날짜']).dt.strftime('%Y-%m-%d')\n",
        "\n",
        "# ▶️ 파일명에서 날짜 자동 추출 함수\n",
        "def extract_date_from_filename(filename):\n",
        "    match = re.search(r'1월(\\d{1,2})일', filename)  # 월 수정\n",
        "    if match:\n",
        "        day = int(match.group(1))\n",
        "        return f'2025-1-{day:02d}'  # 예: 2024-11-09\n",
        "    return None\n",
        "\n",
        "# ▶️ 9일~23일 파일 리스트\n",
        "file_paths = [f'/content/1월{day}일.csv' for day in range(1, 32)]  # 월 수정\n",
        "\n",
        "df_list = []\n",
        "\n",
        "for path in file_paths:\n",
        "    if os.path.exists(path):\n",
        "        df = pd.read_csv(path, encoding='utf-8-sig')\n",
        "        df.columns = df.columns.str.strip()\n",
        "\n",
        "        # 날짜 컬럼이 없거나 비어 있는 경우 → 파일명에서 추출해서 입력\n",
        "        if '날짜' not in df.columns or df['날짜'].isnull().all():\n",
        "            date_value = extract_date_from_filename(path)\n",
        "            df['날짜'] = date_value\n",
        "\n",
        "        df['날짜'] = pd.to_datetime(df['날짜']).dt.strftime('%Y-%m-%d')\n",
        "        df_list.append(df)\n",
        "    else:\n",
        "        print(f\"❌ 파일 없음: {path}\")\n",
        "\n",
        "# ▶️ 새 데이터 병합 후 기존 데이터와 결합\n",
        "df_new = pd.concat(df_list, ignore_index=True)\n",
        "df_total = pd.concat([df_base, df_new], ignore_index=True)\n",
        "\n",
        "# ▶️ 최종 저장\n",
        "output_path = '/content/merged_25년1월_utf8sig.csv' # 월별 이름 수정\n",
        "df_total.to_csv(output_path, index=False, encoding='utf-8-sig')\n",
        "\n",
        "print(\"✅ 날짜 포함 병합 완료! 저장 파일:\", output_path)\n"
      ]
    },
    {
      "cell_type": "code",
      "source": [
        "import os\n",
        "import glob\n",
        "\n",
        "# 삭제 대상 경로 설정 (예: /content/*.csv)\n",
        "file_list = glob.glob('/content/*.csv')\n",
        "\n",
        "# 개별 파일 삭제\n",
        "for file_path in file_list:\n",
        "    try:\n",
        "        os.remove(file_path)\n",
        "        print(f\"삭제 완료: {file_path}\")\n",
        "    except Exception as e:\n",
        "        print(f\"삭제 실패: {file_path} - 에러: {e}\")\n"
      ],
      "metadata": {
        "colab": {
          "base_uri": "https://localhost:8080/"
        },
        "id": "7j3j_LMOh9_V",
        "outputId": "4838e34b-78f0-43f5-b6bd-77d9c630489f"
      },
      "execution_count": 2,
      "outputs": [
        {
          "output_type": "stream",
          "name": "stdout",
          "text": [
            "삭제 완료: /content/1월18일.csv\n",
            "삭제 완료: /content/1월21일.csv\n",
            "삭제 완료: /content/1월15일.csv\n",
            "삭제 완료: /content/1월31일.csv\n",
            "삭제 완료: /content/1월17일.csv\n",
            "삭제 완료: /content/1월29일.csv\n",
            "삭제 완료: /content/1월24일.csv\n",
            "삭제 완료: /content/1월5일.csv\n",
            "삭제 완료: /content/1월7일.csv\n",
            "삭제 완료: /content/1월26일.csv\n",
            "삭제 완료: /content/1월20일.csv\n",
            "삭제 완료: /content/1월19일.csv\n",
            "삭제 완료: /content/1월2일.csv\n",
            "삭제 완료: /content/1월4일.csv\n",
            "삭제 완료: /content/1월16일.csv\n",
            "삭제 완료: /content/1월8일.csv\n",
            "삭제 완료: /content/1월12일.csv\n",
            "삭제 완료: /content/1월13일.csv\n",
            "삭제 완료: /content/1월11일.csv\n",
            "삭제 완료: /content/1월27일.csv\n",
            "삭제 완료: /content/1월25일.csv\n",
            "삭제 완료: /content/1월22일.csv\n",
            "삭제 완료: /content/1월6일.csv\n",
            "삭제 완료: /content/1월9일.csv\n",
            "삭제 완료: /content/1월3일.csv\n",
            "삭제 완료: /content/1월23일.csv\n",
            "삭제 완료: /content/1월28일.csv\n",
            "삭제 완료: /content/1월30일.csv\n",
            "삭제 완료: /content/1월1일.csv\n",
            "삭제 완료: /content/1월14일.csv\n",
            "삭제 완료: /content/1월10일.csv\n",
            "삭제 완료: /content/merged_25년1월_utf8sig.csv\n"
          ]
        }
      ]
    }
  ]
}