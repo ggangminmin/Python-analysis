{
  "nbformat": 4,
  "nbformat_minor": 0,
  "metadata": {
    "colab": {
      "provenance": [],
      "include_colab_link": true
    },
    "kernelspec": {
      "name": "python3",
      "display_name": "Python 3"
    },
    "language_info": {
      "name": "python"
    }
  },
  "cells": [
    {
      "cell_type": "markdown",
      "metadata": {
        "id": "view-in-github",
        "colab_type": "text"
      },
      "source": [
        "<a href=\"https://colab.research.google.com/github/ggangminmin/Python-analysis/blob/MASTER/%ED%8C%8C%EC%9D%BC_%ED%95%A9%EC%B9%98%EA%B8%B0.ipynb\" target=\"_parent\"><img src=\"https://colab.research.google.com/assets/colab-badge.svg\" alt=\"Open In Colab\"/></a>"
      ]
    },
    {
      "cell_type": "code",
      "execution_count": 3,
      "metadata": {
        "colab": {
          "base_uri": "https://localhost:8080/"
        },
        "id": "RrxPjddJoj_X",
        "outputId": "2455c632-06e4-47f2-e4fc-5e20db252e0c"
      },
      "outputs": [
        {
          "output_type": "stream",
          "name": "stdout",
          "text": [
            "✅ 날짜 포함 병합 완료! 저장 파일: /content/merged_24년11월_utf8sig.csv\n"
          ]
        }
      ],
      "source": [
        "import pandas as pd\n",
        "import os\n",
        "import re\n",
        "\n",
        "# ▶️ 기존 데이터 (1~8일) 불러오기\n",
        "df_base = pd.read_csv('11월1일.csv', encoding='utf-8-sig') # 파일명\n",
        "df_base.columns = df_base.columns.str.strip()\n",
        "df_base['날짜'] = pd.to_datetime(df_base['날짜']).dt.strftime('%Y-%m-%d')\n",
        "\n",
        "# ▶️ 파일명에서 날짜 자동 추출 함수\n",
        "def extract_date_from_filename(filename):\n",
        "    match = re.search(r'11월(\\d{1,2})일', filename)  # 월 수정\n",
        "    if match:\n",
        "        day = int(match.group(1))\n",
        "        return f'2024-11-{day:02d}'  # 예: 2024-11-09\n",
        "    return None\n",
        "\n",
        "# ▶️ 9일~23일 파일 리스트\n",
        "file_paths = [f'/content/11월{day}일.csv' for day in range(1, 31)]  # 월 수정\n",
        "\n",
        "df_list = []\n",
        "\n",
        "for path in file_paths:\n",
        "    if os.path.exists(path):\n",
        "        df = pd.read_csv(path, encoding='utf-8-sig')\n",
        "        df.columns = df.columns.str.strip()\n",
        "\n",
        "        # 날짜 컬럼이 없거나 비어 있는 경우 → 파일명에서 추출해서 입력\n",
        "        if '날짜' not in df.columns or df['날짜'].isnull().all():\n",
        "            date_value = extract_date_from_filename(path)\n",
        "            df['날짜'] = date_value\n",
        "\n",
        "        df['날짜'] = pd.to_datetime(df['날짜']).dt.strftime('%Y-%m-%d')\n",
        "        df_list.append(df)\n",
        "    else:\n",
        "        print(f\"❌ 파일 없음: {path}\")\n",
        "\n",
        "# ▶️ 새 데이터 병합 후 기존 데이터와 결합\n",
        "df_new = pd.concat(df_list, ignore_index=True)\n",
        "df_total = pd.concat([df_base, df_new], ignore_index=True)\n",
        "\n",
        "# ▶️ 최종 저장\n",
        "output_path = '/content/merged_24년11월_utf8sig.csv' # 월별 이름 수정\n",
        "df_total.to_csv(output_path, index=False, encoding='utf-8-sig')\n",
        "\n",
        "print(\"✅ 날짜 포함 병합 완료! 저장 파일:\", output_path)\n"
      ]
    },
    {
      "cell_type": "code",
      "source": [
        "import os\n",
        "import glob\n",
        "\n",
        "# 삭제 대상 경로 설정 (예: /content/*.csv)\n",
        "file_list = glob.glob('/content/*.csv')\n",
        "\n",
        "# 개별 파일 삭제\n",
        "for file_path in file_list:\n",
        "    try:\n",
        "        os.remove(file_path)\n",
        "        print(f\"삭제 완료: {file_path}\")\n",
        "    except Exception as e:\n",
        "        print(f\"삭제 실패: {file_path} - 에러: {e}\")\n"
      ],
      "metadata": {
        "colab": {
          "base_uri": "https://localhost:8080/"
        },
        "id": "7j3j_LMOh9_V",
        "outputId": "209d8b10-07a0-4071-eacb-1836999f1ceb"
      },
      "execution_count": 4,
      "outputs": [
        {
          "output_type": "stream",
          "name": "stdout",
          "text": [
            "삭제 완료: /content/11월16일.csv\n",
            "삭제 완료: /content/11월24일.csv\n",
            "삭제 완료: /content/11월19일.csv\n",
            "삭제 완료: /content/11월8일.csv\n",
            "삭제 완료: /content/11월15일.csv\n",
            "삭제 완료: /content/11월21일.csv\n",
            "삭제 완료: /content/11월14일.csv\n",
            "삭제 완료: /content/11월28일.csv\n",
            "삭제 완료: /content/11월12일.csv\n",
            "삭제 완료: /content/11월26일.csv\n",
            "삭제 완료: /content/merged_24년11월_utf8sig.csv\n",
            "삭제 완료: /content/11월5일.csv\n",
            "삭제 완료: /content/11월13일.csv\n",
            "삭제 완료: /content/11월27일.csv\n",
            "삭제 완료: /content/11월1일.csv\n",
            "삭제 완료: /content/11월18일.csv\n",
            "삭제 완료: /content/11월20일.csv\n",
            "삭제 완료: /content/11월10일.csv\n",
            "삭제 완료: /content/11월3일.csv\n",
            "삭제 완료: /content/11월4일.csv\n",
            "삭제 완료: /content/11월29일.csv\n",
            "삭제 완료: /content/11월2일.csv\n",
            "삭제 완료: /content/11월11일.csv\n",
            "삭제 완료: /content/11월6일.csv\n",
            "삭제 완료: /content/11월30일.csv\n",
            "삭제 완료: /content/11월9일.csv\n",
            "삭제 완료: /content/11월7일.csv\n",
            "삭제 완료: /content/11월17일.csv\n",
            "삭제 완료: /content/11월22일.csv\n",
            "삭제 완료: /content/11월23일.csv\n",
            "삭제 완료: /content/11월25일.csv\n"
          ]
        }
      ]
    }
  ]
}